{
  "nbformat": 4,
  "nbformat_minor": 0,
  "metadata": {
    "colab": {
      "provenance": [],
      "toc_visible": true,
      "authorship_tag": "ABX9TyNNy4prtkAYLDp8p8ei0dYw",
      "include_colab_link": true
    },
    "kernelspec": {
      "name": "python3",
      "display_name": "Python 3"
    },
    "language_info": {
      "name": "python"
    }
  },
  "cells": [
    {
      "cell_type": "markdown",
      "metadata": {
        "id": "view-in-github",
        "colab_type": "text"
      },
      "source": [
        "<a href=\"https://colab.research.google.com/github/dylanmelnick/BTE320/blob/main/In_Class_Assignments.ipynb\" target=\"_parent\"><img src=\"https://colab.research.google.com/assets/colab-badge.svg\" alt=\"Open In Colab\"/></a>"
      ]
    },
    {
      "cell_type": "markdown",
      "source": [
        "# August 26th"
      ],
      "metadata": {
        "id": "S0wVrCKTO1A6"
      }
    },
    {
      "cell_type": "code",
      "source": [
        "r=3\n",
        "pi=3.14\n",
        "h=10\n",
        "Area= 2*pi*r**2+2*pi*r*h\n",
        "print(Area)"
      ],
      "metadata": {
        "colab": {
          "base_uri": "https://localhost:8080/"
        },
        "id": "Bm7LoAafcLcy",
        "outputId": "6b494a4d-e47c-440a-c883-e679f5b5afa5"
      },
      "execution_count": null,
      "outputs": [
        {
          "output_type": "stream",
          "name": "stdout",
          "text": [
            "244.92000000000002\n"
          ]
        }
      ]
    },
    {
      "cell_type": "markdown",
      "source": [
        "# September 9th"
      ],
      "metadata": {
        "id": "f8aaweWCO4Gv"
      }
    },
    {
      "cell_type": "code",
      "source": [
        "choice = input('Do you want to play a game? (Yes or No) ').lower()\n",
        "while choice == 'yes':\n",
        "\n",
        "  p1 = input('Player 1: Choose Rock, Paper, or Scissors ').lower()\n",
        "  p2 = input('Player 2: Choose Rock, Paper, or Scissors ').lower()\n",
        "\n",
        "  if p1 == p2:\n",
        "    print ('Draw')\n",
        "  elif p1 == 'rock':\n",
        "    if p2 == 'scissors':\n",
        "      print ('Player 1 wins')\n",
        "    else:\n",
        "      print ('Player 2 wins')\n",
        "  elif p1 == 'paper':\n",
        "    if p2 == 'rock':\n",
        "      print ('Player 1 wins')\n",
        "    else:\n",
        "      print ('Player 2 wins')\n",
        "  elif p1 == 'scissors':\n",
        "    if p2 == 'paper':\n",
        "      print ('Player 1 wins')\n",
        "    else:\n",
        "      print ('Player 2 wins')\n",
        "\n",
        "  choice = input('Do you want to play a game? (Yes or No) ')"
      ],
      "metadata": {
        "colab": {
          "base_uri": "https://localhost:8080/"
        },
        "id": "MC6_H_SNLaat",
        "outputId": "09e673ce-43d3-436e-f0b2-e59ebfce0845",
        "collapsed": true
      },
      "execution_count": 15,
      "outputs": [
        {
          "name": "stdout",
          "output_type": "stream",
          "text": [
            "Do you want to play a game? (Yes or No) Yes\n",
            "Player 1: Choose Rock, Paper, or Scissors rock\n",
            "Player 2: Choose Rock, Paper, or Scissors paper\n",
            "Player 2 wins\n",
            "Do you want to play a game? (Yes or No) no\n"
          ]
        }
      ]
    },
    {
      "cell_type": "markdown",
      "source": [
        "# September 11th"
      ],
      "metadata": {
        "id": "rjUZJk8OWzCr"
      }
    },
    {
      "cell_type": "code",
      "source": [
        "n1 = float(input('Choose the first number: '))\n",
        "n2 = float(input('Choose the second number: '))\n",
        "symbol = input('Pick symbol (+,-,*,/,**): ')\n",
        "print()\n",
        "\n",
        "if symbol == '+':\n",
        "  print ((n1)+(n2))\n",
        "elif symbol == '-':\n",
        "  print ((n1)-(n2))\n",
        "elif symbol == '*':\n",
        "  print ((n1)*(n2))\n",
        "elif symbol == '/':\n",
        "  print ((n1)/(n2))\n",
        "elif symbol == '**':\n",
        "  print ((n1)**(n2))"
      ],
      "metadata": {
        "colab": {
          "base_uri": "https://localhost:8080/"
        },
        "id": "p81TQs3RW2Qr",
        "outputId": "dfe0f473-29f5-4ac9-c9b9-c7e9d4112f45"
      },
      "execution_count": null,
      "outputs": [
        {
          "output_type": "stream",
          "name": "stdout",
          "text": [
            "Choose the first number: 3\n",
            "Choose the second number: 5\n",
            "Pick symbol (+,-,*,/,**): *\n",
            "\n",
            "15.0\n"
          ]
        }
      ]
    },
    {
      "cell_type": "code",
      "source": [
        "!pip install ColabTurtlePlus"
      ],
      "metadata": {
        "colab": {
          "base_uri": "https://localhost:8080/"
        },
        "id": "3tWv297Mc2Kn",
        "outputId": "70f5b562-4d3a-44be-bd89-4d6da130945e"
      },
      "execution_count": null,
      "outputs": [
        {
          "output_type": "stream",
          "name": "stdout",
          "text": [
            "Requirement already satisfied: ColabTurtlePlus in /usr/local/lib/python3.10/dist-packages (2.0.1)\n"
          ]
        }
      ]
    },
    {
      "cell_type": "code",
      "source": [
        "from ColabTurtlePlus.Turtle import *\n",
        "\n",
        "clearscreen()\n",
        "\n",
        "reset = True\n",
        "\n",
        "if reset:\n",
        "  clear()\n",
        "\n",
        "color('black', 'cyan')\n",
        "shape('blank')\n",
        "begin_fill()\n",
        "jumpto(0,0)\n",
        "\n",
        "for i in range(4):       #for varName in sequence\n",
        "  forward(100)\n",
        "  left(90)\n",
        "\n",
        "\n",
        "penup()\n",
        "end_fill()"
      ],
      "metadata": {
        "colab": {
          "base_uri": "https://localhost:8080/",
          "height": 621
        },
        "id": "1X52cNl6c8pK",
        "outputId": "f5bcb0a0-5218-4406-8912-c53226c673cc"
      },
      "execution_count": null,
      "outputs": [
        {
          "output_type": "display_data",
          "data": {
            "text/plain": [
              "<IPython.core.display.HTML object>"
            ],
            "text/html": [
              "\n",
              "      <svg width=\"800\" height=\"600\">  \n",
              "        <rect width=\"100%\" height=\"100%\" style=\"fill:white;stroke:;stroke-width:1\"/>\n",
              "        \n",
              "        \n",
              "        <path fill-rule=\"evenodd\" fill-opacity=\"1\" d=\"M 400.0 300.0  L 400.0 300.0  L 500.0 300.0  L 500.0 200.0  L 400.0 200.0  L 400.0 300.0 \" stroke-linecap=\"round\" style=\"stroke:none;stroke-width:1\" fill=\"cyan\" />\n",
              "        \n",
              "        \n",
              "        \n",
              "      </svg>\n",
              "    "
            ]
          },
          "metadata": {}
        }
      ]
    }
  ]
}