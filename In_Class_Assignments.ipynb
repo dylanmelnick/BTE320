{
  "nbformat": 4,
  "nbformat_minor": 0,
  "metadata": {
    "colab": {
      "provenance": [],
      "authorship_tag": "ABX9TyMhlUn+HcLuxbh7BjkbONVT",
      "include_colab_link": true
    },
    "kernelspec": {
      "name": "python3",
      "display_name": "Python 3"
    },
    "language_info": {
      "name": "python"
    }
  },
  "cells": [
    {
      "cell_type": "markdown",
      "metadata": {
        "id": "view-in-github",
        "colab_type": "text"
      },
      "source": [
        "<a href=\"https://colab.research.google.com/github/dylanmelnick/BTE320/blob/main/In_Class_Assignments.ipynb\" target=\"_parent\"><img src=\"https://colab.research.google.com/assets/colab-badge.svg\" alt=\"Open In Colab\"/></a>"
      ]
    },
    {
      "cell_type": "markdown",
      "source": [
        "# August 26th"
      ],
      "metadata": {
        "id": "S0wVrCKTO1A6"
      }
    },
    {
      "cell_type": "code",
      "source": [
        "r=3\n",
        "pi=3.14\n",
        "h=10\n",
        "Area= 2*pi*r**2+2*pi*r*h\n",
        "print(Area)"
      ],
      "metadata": {
        "colab": {
          "base_uri": "https://localhost:8080/"
        },
        "id": "Bm7LoAafcLcy",
        "outputId": "6b494a4d-e47c-440a-c883-e679f5b5afa5"
      },
      "execution_count": null,
      "outputs": [
        {
          "output_type": "stream",
          "name": "stdout",
          "text": [
            "244.92000000000002\n"
          ]
        }
      ]
    },
    {
      "cell_type": "markdown",
      "source": [
        "# September 9th"
      ],
      "metadata": {
        "id": "f8aaweWCO4Gv"
      }
    },
    {
      "cell_type": "code",
      "source": [
        "choice = input('Do you want to play a game? (Yes or No) ').lower()\n",
        "while choice == 'yes':\n",
        "\n",
        "  p1 = input('Player 1: Choose Rock, Paper, or Scissors ').lower()\n",
        "  p2 = input('Player 2: Choose Rock, Paper, or Scissors ').lower()\n",
        "\n",
        "  if p1 == p2:\n",
        "    print ('Draw')\n",
        "  elif p1 == 'rock':\n",
        "    if p2 == 'scissors':\n",
        "      print ('Player 1 wins')\n",
        "    else:\n",
        "      print ('Player 2 wins')\n",
        "  elif p1 == 'paper':\n",
        "    if p2 == 'rock':\n",
        "      print ('Player 1 wins')\n",
        "    else:\n",
        "      print ('Player 2 wins')\n",
        "  elif p1 == 'scissors':\n",
        "    if p2 == 'paper':\n",
        "      print ('Player 1 wins')\n",
        "    else:\n",
        "      print ('Player 2 wins')\n",
        "\n",
        "  choice = input('Do you want to play a game? (Yes or No) ')"
      ],
      "metadata": {
        "colab": {
          "base_uri": "https://localhost:8080/"
        },
        "id": "MC6_H_SNLaat",
        "outputId": "09e673ce-43d3-436e-f0b2-e59ebfce0845",
        "collapsed": true
      },
      "execution_count": null,
      "outputs": [
        {
          "name": "stdout",
          "output_type": "stream",
          "text": [
            "Do you want to play a game? (Yes or No) Yes\n",
            "Player 1: Choose Rock, Paper, or Scissors rock\n",
            "Player 2: Choose Rock, Paper, or Scissors paper\n",
            "Player 2 wins\n",
            "Do you want to play a game? (Yes or No) no\n"
          ]
        }
      ]
    },
    {
      "cell_type": "markdown",
      "source": [
        "# September 11th"
      ],
      "metadata": {
        "id": "rjUZJk8OWzCr"
      }
    },
    {
      "cell_type": "code",
      "source": [
        "n1 = float(input('Choose the first number: '))\n",
        "n2 = float(input('Choose the second number: '))\n",
        "symbol = input('Pick symbol (+,-,*,/,**): ')\n",
        "print()\n",
        "\n",
        "if symbol == '+':\n",
        "  print ((n1)+(n2))\n",
        "elif symbol == '-':\n",
        "  print ((n1)-(n2))\n",
        "elif symbol == '*':\n",
        "  print ((n1)*(n2))\n",
        "elif symbol == '/':\n",
        "  print ((n1)/(n2))\n",
        "elif symbol == '**':\n",
        "  print ((n1)**(n2))"
      ],
      "metadata": {
        "colab": {
          "base_uri": "https://localhost:8080/"
        },
        "id": "p81TQs3RW2Qr",
        "outputId": "dfe0f473-29f5-4ac9-c9b9-c7e9d4112f45"
      },
      "execution_count": null,
      "outputs": [
        {
          "output_type": "stream",
          "name": "stdout",
          "text": [
            "Choose the first number: 3\n",
            "Choose the second number: 5\n",
            "Pick symbol (+,-,*,/,**): *\n",
            "\n",
            "15.0\n"
          ]
        }
      ]
    },
    {
      "cell_type": "code",
      "source": [
        "!pip install ColabTurtlePlus"
      ],
      "metadata": {
        "colab": {
          "base_uri": "https://localhost:8080/"
        },
        "id": "3tWv297Mc2Kn",
        "outputId": "70f5b562-4d3a-44be-bd89-4d6da130945e"
      },
      "execution_count": null,
      "outputs": [
        {
          "output_type": "stream",
          "name": "stdout",
          "text": [
            "Requirement already satisfied: ColabTurtlePlus in /usr/local/lib/python3.10/dist-packages (2.0.1)\n"
          ]
        }
      ]
    },
    {
      "cell_type": "code",
      "source": [
        "from ColabTurtlePlus.Turtle import *\n",
        "\n",
        "clearscreen()\n",
        "\n",
        "reset = True\n",
        "\n",
        "if reset:\n",
        "  clear()\n",
        "\n",
        "color('black', 'cyan')\n",
        "shape('blank')\n",
        "begin_fill()\n",
        "jumpto(0,0)\n",
        "\n",
        "for i in range(4):       #for varName in sequence\n",
        "  forward(100)\n",
        "  left(90)\n",
        "\n",
        "\n",
        "penup()\n",
        "end_fill()"
      ],
      "metadata": {
        "colab": {
          "base_uri": "https://localhost:8080/",
          "height": 621
        },
        "id": "1X52cNl6c8pK",
        "outputId": "f5bcb0a0-5218-4406-8912-c53226c673cc"
      },
      "execution_count": null,
      "outputs": [
        {
          "output_type": "display_data",
          "data": {
            "text/plain": [
              "<IPython.core.display.HTML object>"
            ],
            "text/html": [
              "\n",
              "      <svg width=\"800\" height=\"600\">  \n",
              "        <rect width=\"100%\" height=\"100%\" style=\"fill:white;stroke:;stroke-width:1\"/>\n",
              "        \n",
              "        \n",
              "        <path fill-rule=\"evenodd\" fill-opacity=\"1\" d=\"M 400.0 300.0  L 400.0 300.0  L 500.0 300.0  L 500.0 200.0  L 400.0 200.0  L 400.0 300.0 \" stroke-linecap=\"round\" style=\"stroke:none;stroke-width:1\" fill=\"cyan\" />\n",
              "        \n",
              "        \n",
              "        \n",
              "      </svg>\n",
              "    "
            ]
          },
          "metadata": {}
        }
      ]
    },
    {
      "cell_type": "markdown",
      "source": [
        "# September 18th"
      ],
      "metadata": {
        "id": "9NzWn84AaC-e"
      }
    },
    {
      "cell_type": "code",
      "source": [
        "flat_rate = 5\n",
        "hourly_rate = 2.5\n",
        "\n",
        "for hour in range(1,9,1):\n",
        "  if flat_rate + hourly_rate * hour < 10:\n",
        "    print('Hour', hour,' ', 10.0)\n",
        "  elif flat_rate + hourly_rate * hour > 20:\n",
        "    print('Hour', hour,' ', 20.0)\n",
        "  else:\n",
        "    print('Hour', hour,' ', flat_rate + hourly_rate * hour)\n",
        "\n",
        "\n"
      ],
      "metadata": {
        "colab": {
          "base_uri": "https://localhost:8080/"
        },
        "id": "LyR82DfKaHPq",
        "outputId": "13779899-a76a-48ed-c1c0-f052cb237022"
      },
      "execution_count": null,
      "outputs": [
        {
          "output_type": "stream",
          "name": "stdout",
          "text": [
            "Hour 1   10\n",
            "Hour 2   10.0\n",
            "Hour 3   12.5\n",
            "Hour 4   15.0\n",
            "Hour 5   17.5\n",
            "Hour 6   20.0\n",
            "Hour 7   20\n",
            "Hour 8   20\n"
          ]
        }
      ]
    },
    {
      "cell_type": "code",
      "source": [
        "ticket = 10\n",
        "attendees = 20\n",
        "fixed = 200\n",
        "\n",
        "for ad in range (0,201,25):\n",
        "  additional = 2 * round(ad ** .5)\n",
        "  profit = ticket * (attendees + additional) - fixed - ad\n",
        "  print(ad, profit)\n"
      ],
      "metadata": {
        "colab": {
          "base_uri": "https://localhost:8080/"
        },
        "id": "IQItoTwFkdrw",
        "outputId": "46346e21-789f-4980-abe6-ca179f28abe6"
      },
      "execution_count": null,
      "outputs": [
        {
          "output_type": "stream",
          "name": "stdout",
          "text": [
            "0 0\n",
            "25 75\n",
            "50 90\n",
            "75 105\n",
            "100 100\n",
            "125 95\n",
            "150 90\n",
            "175 85\n",
            "200 80\n"
          ]
        }
      ]
    },
    {
      "cell_type": "markdown",
      "source": [
        "# September 25th\n"
      ],
      "metadata": {
        "id": "f7BD0B2fmdP2"
      }
    },
    {
      "cell_type": "code",
      "source": [
        "L = []\n",
        "i = int(input('Give a Value: '))\n",
        "\n",
        "while i != 0:\n",
        "  L.append(i)\n",
        "  i = int(input('Give another Value: '))\n",
        "\n",
        "print(L)"
      ],
      "metadata": {
        "colab": {
          "base_uri": "https://localhost:8080/"
        },
        "id": "YaEd0veDmTlo",
        "outputId": "aba4cf19-f052-4469-8f58-e07b59e4be4a"
      },
      "execution_count": null,
      "outputs": [
        {
          "output_type": "stream",
          "name": "stdout",
          "text": [
            "Give a Value: 3\n",
            "Give another Value: 5\n",
            "Give another Value: 6\n",
            "Give another Value: 76\n",
            "Give another Value: 65\n",
            "Give another Value: 0\n",
            "[3, 5, 6, 76, 65]\n"
          ]
        }
      ]
    },
    {
      "cell_type": "markdown",
      "source": [
        "# September 30th"
      ],
      "metadata": {
        "id": "cdPI4jrpWAkR"
      }
    },
    {
      "cell_type": "code",
      "source": [
        "months = {}\n",
        "\n",
        "names = ['Jan', 'Feb', 'Mar', 'Apr', 'May', 'Jun', 'Jul', 'Aug', 'Sep', 'Oct', 'Nov', 'Dec']\n",
        "numbers = [1, 2, 3, 4, 5, 6, 7, 8, 9, 10, 11, 12]\n",
        "\n",
        "for i in range(len(names)):\n",
        "  months[numbers[i]] = names[i]\n",
        "\n",
        "print(months)\n",
        "\n"
      ],
      "metadata": {
        "colab": {
          "base_uri": "https://localhost:8080/"
        },
        "id": "D7S58sSJWDbU",
        "outputId": "bc0771e9-3e32-4978-93cc-f8ee5861150d"
      },
      "execution_count": null,
      "outputs": [
        {
          "output_type": "stream",
          "name": "stdout",
          "text": [
            "{1: 'Jan', 2: 'Feb', 3: 'Mar', 4: 'Apr', 5: 'May', 6: 'Jun', 7: 'Jul', 8: 'Aug', 9: 'Sep', 10: 'Oct', 11: 'Nov', 12: 'Dec'}\n"
          ]
        }
      ]
    },
    {
      "cell_type": "markdown",
      "source": [
        "# October 16th"
      ],
      "metadata": {
        "id": "nbu1si0MnJKw"
      }
    },
    {
      "cell_type": "code",
      "source": [
        "\n",
        "annual_salary = float(input('Enter Salary: '))\n",
        "portion_saved = float(input('Enter Portion to Save (as a decimal): '))\n",
        "total_cost = float(input('Enter the Cost of the House: '))\n",
        "\n",
        "portion_down_payment = 0.25\n",
        "r = 0.04\n",
        "\n",
        "down_payment = total_cost * portion_down_payment\n",
        "current_savings = 0\n",
        "months = 0\n",
        "\n",
        "while current_savings < down_payment:\n",
        "    current_savings += current_savings * (r / 12) + (portion_saved * (annual_salary / 12))\n",
        "    months += 1\n",
        "\n",
        "print(f\"Number of months: {months}\")\n"
      ],
      "metadata": {
        "id": "4Mj8E-BdnNIe",
        "colab": {
          "base_uri": "https://localhost:8080/"
        },
        "outputId": "79b285fa-0cd3-4355-ca15-33a9b61a0b19"
      },
      "execution_count": 2,
      "outputs": [
        {
          "output_type": "stream",
          "name": "stdout",
          "text": [
            "Enter Salary: 120000\n",
            "Enter Portion to Save (as a decimal): .1\n",
            "Enter the Cost of the House: 1000000\n",
            "Number of months: 183\n"
          ]
        }
      ]
    },
    {
      "cell_type": "code",
      "source": [
        "\n",
        "annual_salary = float(input('Enter your annual salary: '))\n",
        "portion_saved = float(input('Enter the percent of your salary to save, as a decimal: '))\n",
        "total_cost = float(input('Enter the cost of your dream home: '))\n",
        "semi_annual_raise = float(input('Enter the semi-annual raise, as a decimal: '))\n",
        "\n",
        "portion_down_payment = 0.25\n",
        "r = 0.04\n",
        "\n",
        "down_payment = total_cost * portion_down_payment\n",
        "current_savings = 0\n",
        "months = 0\n",
        "\n",
        "while current_savings < down_payment:\n",
        "    current_savings += current_savings * (r / 12) + (portion_saved * (annual_salary / 12))\n",
        "    months += 1\n",
        "\n",
        "    if months % 6 == 0:\n",
        "        annual_salary += annual_salary * semi_annual_raise\n",
        "\n",
        "print(f\"Number of months: {months}\")\n"
      ],
      "metadata": {
        "id": "4RG0YIj1wuWF",
        "colab": {
          "base_uri": "https://localhost:8080/"
        },
        "outputId": "fa2fdc2b-278c-4d9a-e2f4-8d725afd9831"
      },
      "execution_count": 3,
      "outputs": [
        {
          "output_type": "stream",
          "name": "stdout",
          "text": [
            "Enter your annual salary: 120000\n",
            "Enter the percent of your salary to save, as a decimal: .05\n",
            "Enter the cost of your dream home: 500000\n",
            "Enter the semi-annual raise, as a decimal: .03\n",
            "Number of months: 142\n"
          ]
        }
      ]
    },
    {
      "cell_type": "code",
      "source": [
        "def range_check(num, low, high):\n",
        "  if num >= low and num <= high:\n",
        "    return True\n",
        "  else:\n",
        "    return False"
      ],
      "metadata": {
        "id": "7_H_taQAwurm"
      },
      "execution_count": null,
      "outputs": []
    },
    {
      "cell_type": "code",
      "source": [
        "print(range_check(2, 1, 3))"
      ],
      "metadata": {
        "colab": {
          "base_uri": "https://localhost:8080/"
        },
        "id": "CF33WF5VxKPH",
        "outputId": "326061ae-4f97-454d-c2b4-0869f874e03a"
      },
      "execution_count": null,
      "outputs": [
        {
          "output_type": "stream",
          "name": "stdout",
          "text": [
            "True\n"
          ]
        }
      ]
    },
    {
      "cell_type": "markdown",
      "source": [
        "# October 21st"
      ],
      "metadata": {
        "id": "kOZFFKUocFA7"
      }
    },
    {
      "cell_type": "code",
      "source": [
        "\n",
        "\n",
        "\n",
        "def calcfee(hours):\n",
        "  base_fee = 5\n",
        "  hourly_fee = 2.5\n",
        "  return (hours * hourly_fee) + base_fee\n",
        "\n",
        "hours = int((input('Enter number of hours parked: ')))\n",
        "\n",
        "f = calcfee(hours)\n",
        "print('$', f)"
      ],
      "metadata": {
        "colab": {
          "base_uri": "https://localhost:8080/"
        },
        "id": "iK8GjxOIcHDF",
        "outputId": "fdade9d5-9de5-45b7-cfd9-33bc2136f8af"
      },
      "execution_count": 14,
      "outputs": [
        {
          "output_type": "stream",
          "name": "stdout",
          "text": [
            "Enter number of hours parked: 4\n",
            "$ 15.0\n"
          ]
        }
      ]
    }
  ]
}