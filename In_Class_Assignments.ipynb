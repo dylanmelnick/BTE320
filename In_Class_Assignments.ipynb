{
  "nbformat": 4,
  "nbformat_minor": 0,
  "metadata": {
    "colab": {
      "provenance": [],
      "toc_visible": true,
      "authorship_tag": "ABX9TyM2ojFKBSyYESjfbBLG/Jaq",
      "include_colab_link": true
    },
    "kernelspec": {
      "name": "python3",
      "display_name": "Python 3"
    },
    "language_info": {
      "name": "python"
    }
  },
  "cells": [
    {
      "cell_type": "markdown",
      "metadata": {
        "id": "view-in-github",
        "colab_type": "text"
      },
      "source": [
        "<a href=\"https://colab.research.google.com/github/dylanmelnick/BTE320/blob/main/In_Class_Assignments.ipynb\" target=\"_parent\"><img src=\"https://colab.research.google.com/assets/colab-badge.svg\" alt=\"Open In Colab\"/></a>"
      ]
    },
    {
      "cell_type": "markdown",
      "source": [
        "# August 26th"
      ],
      "metadata": {
        "id": "S0wVrCKTO1A6"
      }
    },
    {
      "cell_type": "markdown",
      "source": [
        "# September 9th"
      ],
      "metadata": {
        "id": "f8aaweWCO4Gv"
      }
    },
    {
      "cell_type": "code",
      "source": [
        "p1 = input('Player 1: Choose Rock, Paper, or Scissors ')\n",
        "p2 = input('Player 2: Choose Rock, Paper, or Scissors ')\n",
        "\n",
        "if p1 == p2:\n",
        "  print ('Draw')\n",
        "elif p1 == 'Rock':\n",
        "  if p2 == 'Scissors':\n",
        "    print ('Player 1 wins')\n",
        "  else:\n",
        "    print ('Player 2 wins')\n",
        "elif p1 == 'Paper':\n",
        "  if p2 == 'Rock':\n",
        "    print ('Player 1 wins')\n",
        "  else:\n",
        "    print ('Player 2 wins')\n",
        "elif p1 == 'Scissors':\n",
        "  if p2 == 'Paper':\n",
        "    print ('Player 1 wins')\n",
        "  else:\n",
        "    print ('Player 2 wins')"
      ],
      "metadata": {
        "colab": {
          "base_uri": "https://localhost:8080/"
        },
        "id": "MC6_H_SNLaat",
        "outputId": "04ff699b-9e06-4bf8-cbe8-57c697ee51ca"
      },
      "execution_count": null,
      "outputs": [
        {
          "output_type": "stream",
          "name": "stdout",
          "text": [
            "Player 1: Choose Rock, Paper, or Scissors Rock\n",
            "Player 2: Choose Rock, Paper, or Scissors Paper\n",
            "Player 2 wins\n"
          ]
        }
      ]
    },
    {
      "cell_type": "markdown",
      "source": [
        "# September 11th"
      ],
      "metadata": {
        "id": "rjUZJk8OWzCr"
      }
    },
    {
      "cell_type": "code",
      "source": [
        "n1 = float(input('Choose the first number: '))\n",
        "n2 = float(input('Choose the second number: '))\n",
        "symbol = input('Pick symbol (+,-,*,/,**): ')\n",
        "print()\n",
        "\n",
        "if symbol == '+':\n",
        "  print ((n1)+(n2))\n",
        "elif symbol == '-':\n",
        "  print ((n1)-(n2))\n",
        "elif symbol == '*':\n",
        "  print ((n1)*(n2))\n",
        "elif symbol == '/':\n",
        "  print ((n1)/(n2))\n",
        "elif symbol == '**':\n",
        "  print ((n1)**(n2))"
      ],
      "metadata": {
        "colab": {
          "base_uri": "https://localhost:8080/"
        },
        "id": "p81TQs3RW2Qr",
        "outputId": "dfe0f473-29f5-4ac9-c9b9-c7e9d4112f45"
      },
      "execution_count": 9,
      "outputs": [
        {
          "output_type": "stream",
          "name": "stdout",
          "text": [
            "Choose the first number: 3\n",
            "Choose the second number: 5\n",
            "Pick symbol (+,-,*,/,**): *\n",
            "\n",
            "15.0\n"
          ]
        }
      ]
    }
  ]
}